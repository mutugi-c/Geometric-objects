{
 "cells": [
  {
   "cell_type": "markdown",
   "id": "9565034c-306d-44a7-b405-366a45e085c2",
   "metadata": {},
   "source": [
    "## Working with Geometric Objects"
   ]
  },
  {
   "cell_type": "markdown",
   "id": "69fb220a-f8b3-45b9-93eb-91a0e4db2942",
   "metadata": {},
   "source": [
    "### Creating basic geometries"
   ]
  },
  {
   "cell_type": "code",
   "execution_count": 1,
   "id": "4bab5471-10d3-4e98-b21b-98b4d45a1b6c",
   "metadata": {},
   "outputs": [],
   "source": [
    "# import necessary modules/libraries\n",
    "from shapely.geometry import Point, LineString, Polygon\n",
    "import pandas as pd\n",
    "import pyproj"
   ]
  },
  {
   "cell_type": "code",
   "execution_count": 2,
   "id": "b1b6bf66-8718-4292-abc7-586498b76001",
   "metadata": {},
   "outputs": [],
   "source": [
    "# Create a function that generates a shapely Point geometry object \n",
    "def createPointGeom(x_coord, y_coord):\n",
    "    '''This function has two parameters (x_coord, y_coord).The function should create a shapely Point geometry object and return that. '''\n",
    "    my_point = Point(x_coord, y_coord)\n",
    "    return my_point"
   ]
  },
  {
   "cell_type": "code",
   "execution_count": 3,
   "id": "afc4a9cb-1dc0-4c8c-818c-b18b3bf1921a",
   "metadata": {},
   "outputs": [
    {
     "name": "stdout",
     "output_type": "stream",
     "text": [
      "POINT (4 23)\n",
      "POINT (4 42)\n",
      "POINT (39 23)\n"
     ]
    }
   ],
   "source": [
    "# creating first point -object\n",
    "my_point1 = createPointGeom(4, 23)\n",
    "print(my_point1)\n",
    "\n",
    "# creating second point -object\n",
    "my_point2 = createPointGeom(4, 42)\n",
    "print(my_point2)\n",
    "\n",
    "# creating third point -object\n",
    "my_point3 = createPointGeom(39, 23)\n",
    "print(my_point3)"
   ]
  },
  {
   "cell_type": "code",
   "execution_count": 4,
   "id": "e1a8d147-b800-42c2-811c-d633d6a9765b",
   "metadata": {},
   "outputs": [],
   "source": [
    "# createLineGeom()\n",
    "def createLineGeom(obj1, obj2, obj3):\n",
    "    '''This function takes a list of Shapely Point objects as parameters and returns a LineString object of those input points'''\n",
    "    for obj in [obj1, obj2, obj3]:\n",
    "        is_point = isinstance(obj, Point)\n",
    "        is_tuple = isinstance(obj, tuple)\n",
    "        if is_point or is_tuple:\n",
    "            return LineString([obj1, obj2, obj3])"
   ]
  },
  {
   "cell_type": "code",
   "execution_count": 5,
   "id": "382db9cd-cdbc-4158-843c-d3bc75a789fe",
   "metadata": {},
   "outputs": [
    {
     "name": "stdout",
     "output_type": "stream",
     "text": [
      "LINESTRING (4 23, 4 42, 39 23)\n"
     ]
    }
   ],
   "source": [
    "# Creating my_line1 from the points created earlier\n",
    "my_line1 = createLineGeom(my_point1, my_point2, my_point3)\n",
    "print(my_line1)"
   ]
  },
  {
   "cell_type": "code",
   "execution_count": 6,
   "id": "eae182b3-2b5e-4bab-b1f1-8ca9eb93b477",
   "metadata": {},
   "outputs": [
    {
     "name": "stdout",
     "output_type": "stream",
     "text": [
      "LINESTRING (5 6, 3 9, 12 23)\n"
     ]
    },
    {
     "data": {
      "image/svg+xml": [
       "<svg xmlns=\"http://www.w3.org/2000/svg\" xmlns:xlink=\"http://www.w3.org/1999/xlink\" width=\"100.0\" height=\"100.0\" viewBox=\"2.32 5.32 10.36 18.36\" preserveAspectRatio=\"xMinYMin meet\"><g transform=\"matrix(1,0,0,-1,0,29.0)\"><polyline fill=\"none\" stroke=\"#66cc99\" stroke-width=\"0.36719999999999997\" points=\"5.0,6.0 3.0,9.0 12.0,23.0\" opacity=\"0.8\" /></g></svg>"
      ],
      "text/plain": [
       "<shapely.geometry.linestring.LineString at 0x19eb19fb6a0>"
      ]
     },
     "execution_count": 6,
     "metadata": {},
     "output_type": "execute_result"
    }
   ],
   "source": [
    "# Creating my_line2 from coordinate tuples\n",
    "my_line2 = createLineGeom((5, 6), (3, 9), (12, 23))\n",
    "print(my_line2)\n",
    "my_line2"
   ]
  },
  {
   "cell_type": "code",
   "execution_count": 7,
   "id": "4a2fbda7-47c3-484d-a1ca-5eb83b2a35d7",
   "metadata": {},
   "outputs": [],
   "source": [
    "# createPolyGeom()\n",
    "def createPolyGeom(point1, point2, point3):\n",
    "    '''This function takes a list of coordinate tuples or a list of Shapely Point objects and returns a Polygon object from the input data.'''\n",
    "    return Polygon([point1, point2, point3])"
   ]
  },
  {
   "cell_type": "code",
   "execution_count": 8,
   "id": "7d56294a-cb73-4cea-a6aa-49f25baa8fc2",
   "metadata": {},
   "outputs": [
    {
     "name": "stdout",
     "output_type": "stream",
     "text": [
      "POLYGON ((5 6, 3 9, 12 23, 5 6))\n"
     ]
    }
   ],
   "source": [
    "# creating a polygon using coordinate tuples\n",
    "my_poly1 = createPolyGeom((5, 6), (3, 9), (12, 23))\n",
    "print(my_poly1)"
   ]
  },
  {
   "cell_type": "code",
   "execution_count": 9,
   "id": "a7e680fd-69a8-49ef-875f-aa219807c705",
   "metadata": {},
   "outputs": [
    {
     "name": "stdout",
     "output_type": "stream",
     "text": [
      "POLYGON ((4 23, 4 42, 39 23, 4 23))\n"
     ]
    },
    {
     "data": {
      "image/svg+xml": [
       "<svg xmlns=\"http://www.w3.org/2000/svg\" xmlns:xlink=\"http://www.w3.org/1999/xlink\" width=\"100.0\" height=\"100.0\" viewBox=\"2.5999999999999996 21.6 37.8 21.799999999999997\" preserveAspectRatio=\"xMinYMin meet\"><g transform=\"matrix(1,0,0,-1,0,65.0)\"><path fill-rule=\"evenodd\" fill=\"#66cc99\" stroke=\"#555555\" stroke-width=\"0.7559999999999999\" opacity=\"0.6\" d=\"M 4.0,23.0 L 4.0,42.0 L 39.0,23.0 L 4.0,23.0 z\" /></g></svg>"
      ],
      "text/plain": [
       "<shapely.geometry.polygon.Polygon at 0x19eb1a0a130>"
      ]
     },
     "execution_count": 9,
     "metadata": {},
     "output_type": "execute_result"
    }
   ],
   "source": [
    "# creating a polygon with point objects\n",
    "my_poly2 = createPolyGeom(my_point1, my_point2, my_point3)\n",
    "print(my_poly2)\n",
    "my_poly2"
   ]
  },
  {
   "cell_type": "markdown",
   "id": "092dab03-5819-41e3-a1be-b205bf35db93",
   "metadata": {},
   "source": [
    "###  Attributes of geometries"
   ]
  },
  {
   "cell_type": "code",
   "execution_count": 10,
   "id": "948cb28d-cccc-4882-9aac-bd165525bee9",
   "metadata": {},
   "outputs": [],
   "source": [
    "# getCentroid()\n",
    "def getCentroid(feature):\n",
    "    '''This function takes any kind of Shapely's geometric -object as input and returns a centroid of that geometry.'''\n",
    "    return feature.centroid"
   ]
  },
  {
   "cell_type": "code",
   "execution_count": 11,
   "id": "46d18eb3-250c-4a8b-9408-cdbf5020854b",
   "metadata": {},
   "outputs": [
    {
     "name": "stdout",
     "output_type": "stream",
     "text": [
      "The coordinates of point1 are: POINT (4 23)\n",
      "The centroid of my point1 is POINT (4 23)\n"
     ]
    }
   ],
   "source": [
    "# Showing that a point is its own centroid\n",
    "point1_centroid = getCentroid(my_point1)\n",
    "print(f\"The coordinates of point1 are: {my_point1}\")\n",
    "print(f\"The centroid of my point1 is {point1_centroid}\")"
   ]
  },
  {
   "cell_type": "code",
   "execution_count": 12,
   "id": "346fd10d-109d-46f2-95d7-4a1d1a6802dd",
   "metadata": {},
   "outputs": [
    {
     "name": "stdout",
     "output_type": "stream",
     "text": [
      "The centroid of my line1 is POINT (15.84760436334121 32.5)\n"
     ]
    }
   ],
   "source": [
    "# Centroid of a line\n",
    "line1_centroid = getCentroid(my_line1)\n",
    "print(f\"The centroid of my line1 is {line1_centroid}\")"
   ]
  },
  {
   "cell_type": "code",
   "execution_count": 13,
   "id": "f7c2dba0-127c-496c-8875-7284f1c80185",
   "metadata": {},
   "outputs": [
    {
     "name": "stdout",
     "output_type": "stream",
     "text": [
      "The centroid of my polygon1 is POINT (6.666666666666667 12.66666666666667)\n"
     ]
    }
   ],
   "source": [
    "# Centroid of a polygon\n",
    "poly1_centroid = getCentroid(my_poly1)\n",
    "print(f\"The centroid of my polygon1 is {poly1_centroid}\")"
   ]
  },
  {
   "cell_type": "code",
   "execution_count": null,
   "id": "6f2b819f-52f7-475a-90a2-4b9bdd159d11",
   "metadata": {},
   "outputs": [],
   "source": []
  },
  {
   "cell_type": "code",
   "execution_count": 14,
   "id": "f37b054d-e989-4974-9932-cb055de52038",
   "metadata": {},
   "outputs": [],
   "source": [
    "# getArea()\n",
    "def getArea(polygon):\n",
    "    '''This function takes a Shapely's Polygon object as input and returns the area of that geometry.'''\n",
    "    return polygon.area"
   ]
  },
  {
   "cell_type": "code",
   "execution_count": 15,
   "id": "3d06b064-af11-417e-a8bb-e9793b776aad",
   "metadata": {},
   "outputs": [
    {
     "name": "stdout",
     "output_type": "stream",
     "text": [
      "The area of my_poly1 is: 27.5 square metres.\n"
     ]
    }
   ],
   "source": [
    "# Get polygon area\n",
    "poly1_area = getArea(my_poly1)\n",
    "print(f\"The area of my_poly1 is: {poly1_area} square metres.\")"
   ]
  },
  {
   "cell_type": "code",
   "execution_count": null,
   "id": "224fb2a8-176d-4f13-9ef5-1f07408d1acb",
   "metadata": {},
   "outputs": [],
   "source": []
  },
  {
   "cell_type": "code",
   "execution_count": 16,
   "id": "4bdf8dd2-f873-492a-8b75-1d2f52629e39",
   "metadata": {},
   "outputs": [],
   "source": [
    "# getLength()\n",
    "def getLength(feature):\n",
    "    ''' This function takes either a Shapely's LineString or Polygon object as input. The function checks the type of the input \n",
    "        and returns the length of the line if input is LineString and length of the exterior ring if input is Polygon'''\n",
    "    is_line = isinstance(feature, LineString)\n",
    "    is_poly = isinstance(feature, Polygon)\n",
    "    if is_line:\n",
    "        return feature.length\n",
    "    elif is_poly:\n",
    "        feature_ext = feature.exterior\n",
    "        return feature_ext.length\n",
    "    else:\n",
    "        print(\"Error: Linestring or Polygon geometry required!\")"
   ]
  },
  {
   "cell_type": "code",
   "execution_count": 17,
   "id": "03b664db-d247-45bf-9fff-4bdcacd951c0",
   "metadata": {},
   "outputs": [
    {
     "name": "stdout",
     "output_type": "stream",
     "text": [
      "The length of my_line1 is: 58.82 metres.\n"
     ]
    }
   ],
   "source": [
    "# Getting the length of a line using getLength()\n",
    "line1_length = getLength(my_line1)\n",
    "print(\"The length of my_line1 is: {0:.2f} metres.\".format(line1_length))"
   ]
  },
  {
   "cell_type": "code",
   "execution_count": 18,
   "id": "d2f7037f-e3bc-4f1a-a823-3cdef67092bc",
   "metadata": {},
   "outputs": [
    {
     "name": "stdout",
     "output_type": "stream",
     "text": [
      "The exterior length of my Polygon1 is: 38.63 metres.\n"
     ]
    }
   ],
   "source": [
    "# Getting the exterior length of a polygon using getLength()\n",
    "poly1_length = getLength(my_poly1)\n",
    "print(\"The exterior length of my Polygon1 is: {0:.2f} metres.\".format(poly1_length))"
   ]
  },
  {
   "cell_type": "code",
   "execution_count": 19,
   "id": "3a8071cd-b5a3-41c3-a1c0-ccf0b65fb4cf",
   "metadata": {},
   "outputs": [
    {
     "name": "stdout",
     "output_type": "stream",
     "text": [
      "Error: Linestring or Polygon geometry required!\n"
     ]
    }
   ],
   "source": [
    "# using a feature other than those required\n",
    "point1_length = getLength(my_point1)"
   ]
  },
  {
   "cell_type": "markdown",
   "id": "ae806d3c-4bda-4672-a91d-954f34eee11b",
   "metadata": {},
   "source": [
    "### Reading coordinates from a file and creating geometries\n",
    "The dataset is 'Years.2015-2017.ibtracs_wmo.storms.csv' that consists of tracked paths of tropical storms, hurricanes etc in the years 2015-2017."
   ]
  },
  {
   "cell_type": "code",
   "execution_count": 20,
   "id": "e10d1852-c589-4bb8-9dd0-4ad87c173935",
   "metadata": {},
   "outputs": [
    {
     "data": {
      "text/html": [
       "<div>\n",
       "<style scoped>\n",
       "    .dataframe tbody tr th:only-of-type {\n",
       "        vertical-align: middle;\n",
       "    }\n",
       "\n",
       "    .dataframe tbody tr th {\n",
       "        vertical-align: top;\n",
       "    }\n",
       "\n",
       "    .dataframe thead th {\n",
       "        text-align: right;\n",
       "    }\n",
       "</style>\n",
       "<table border=\"1\" class=\"dataframe\">\n",
       "  <thead>\n",
       "    <tr style=\"text-align: right;\">\n",
       "      <th></th>\n",
       "      <th>Name</th>\n",
       "      <th>Serial_Num</th>\n",
       "      <th>year</th>\n",
       "      <th>Basin</th>\n",
       "      <th>Sub_basin</th>\n",
       "      <th>Num</th>\n",
       "      <th>Latitude_first</th>\n",
       "      <th>Longitude_first</th>\n",
       "      <th>Latitude_last</th>\n",
       "      <th>Longitude_last</th>\n",
       "      <th>ISO_time_first</th>\n",
       "      <th>ISO_time_last</th>\n",
       "      <th>Nature</th>\n",
       "    </tr>\n",
       "  </thead>\n",
       "  <tbody>\n",
       "    <tr>\n",
       "      <th>0</th>\n",
       "      <td>ADJALI</td>\n",
       "      <td>2014319S06066</td>\n",
       "      <td>2015</td>\n",
       "      <td>SI</td>\n",
       "      <td>MM</td>\n",
       "      <td>1</td>\n",
       "      <td>-6.7</td>\n",
       "      <td>66.4</td>\n",
       "      <td>-11.9</td>\n",
       "      <td>51.4</td>\n",
       "      <td>2014-11-15 06:00:00</td>\n",
       "      <td>2014-11-24 06:00:00</td>\n",
       "      <td>TS</td>\n",
       "    </tr>\n",
       "    <tr>\n",
       "      <th>1</th>\n",
       "      <td>0220142015:TWO</td>\n",
       "      <td>2014327S08077</td>\n",
       "      <td>2015</td>\n",
       "      <td>SI</td>\n",
       "      <td>MM</td>\n",
       "      <td>2</td>\n",
       "      <td>-8.0</td>\n",
       "      <td>77.3</td>\n",
       "      <td>-28.9</td>\n",
       "      <td>62.5</td>\n",
       "      <td>2014-11-23 06:00:00</td>\n",
       "      <td>2014-12-02 00:00:00</td>\n",
       "      <td>TS</td>\n",
       "    </tr>\n",
       "  </tbody>\n",
       "</table>\n",
       "</div>"
      ],
      "text/plain": [
       "             Name     Serial_Num  year Basin Sub_basin  Num  Latitude_first  \\\n",
       "0          ADJALI  2014319S06066  2015    SI        MM    1            -6.7   \n",
       "1  0220142015:TWO  2014327S08077  2015    SI        MM    2            -8.0   \n",
       "\n",
       "   Longitude_first  Latitude_last  Longitude_last       ISO_time_first  \\\n",
       "0             66.4          -11.9            51.4  2014-11-15 06:00:00   \n",
       "1             77.3          -28.9            62.5  2014-11-23 06:00:00   \n",
       "\n",
       "         ISO_time_last Nature  \n",
       "0  2014-11-24 06:00:00     TS  \n",
       "1  2014-12-02 00:00:00     TS  "
      ]
     },
     "execution_count": 20,
     "metadata": {},
     "output_type": "execute_result"
    }
   ],
   "source": [
    "# load csv into a pandas dataframe\n",
    "df = pd.read_csv(\"Years.2015-2017.ibtracs_wmo.storms.csv\")\n",
    "df.head(2)"
   ]
  },
  {
   "cell_type": "code",
   "execution_count": 21,
   "id": "162c6a10-713d-4066-9058-3b20c53385c8",
   "metadata": {},
   "outputs": [
    {
     "data": {
      "text/html": [
       "<div>\n",
       "<style scoped>\n",
       "    .dataframe tbody tr th:only-of-type {\n",
       "        vertical-align: middle;\n",
       "    }\n",
       "\n",
       "    .dataframe tbody tr th {\n",
       "        vertical-align: top;\n",
       "    }\n",
       "\n",
       "    .dataframe thead th {\n",
       "        text-align: right;\n",
       "    }\n",
       "</style>\n",
       "<table border=\"1\" class=\"dataframe\">\n",
       "  <thead>\n",
       "    <tr style=\"text-align: right;\">\n",
       "      <th></th>\n",
       "      <th>Latitude_first</th>\n",
       "      <th>Longitude_first</th>\n",
       "      <th>Latitude_last</th>\n",
       "      <th>Longitude_last</th>\n",
       "    </tr>\n",
       "  </thead>\n",
       "  <tbody>\n",
       "    <tr>\n",
       "      <th>0</th>\n",
       "      <td>-6.7</td>\n",
       "      <td>66.4</td>\n",
       "      <td>-11.9</td>\n",
       "      <td>51.4</td>\n",
       "    </tr>\n",
       "    <tr>\n",
       "      <th>1</th>\n",
       "      <td>-8.0</td>\n",
       "      <td>77.3</td>\n",
       "      <td>-28.9</td>\n",
       "      <td>62.5</td>\n",
       "    </tr>\n",
       "  </tbody>\n",
       "</table>\n",
       "</div>"
      ],
      "text/plain": [
       "   Latitude_first  Longitude_first  Latitude_last  Longitude_last\n",
       "0            -6.7             66.4          -11.9            51.4\n",
       "1            -8.0             77.3          -28.9            62.5"
      ]
     },
     "execution_count": 21,
     "metadata": {},
     "output_type": "execute_result"
    }
   ],
   "source": [
    "# Creating a new dataframe made of only the 4 required columns\n",
    "storm_df = df.loc[:, ('Latitude_first', 'Longitude_first', 'Latitude_last', 'Longitude_last')]\n",
    "storm_df.head(2)"
   ]
  },
  {
   "cell_type": "code",
   "execution_count": 22,
   "id": "b668e846-4cf4-4221-a020-ea06a8f1226d",
   "metadata": {},
   "outputs": [],
   "source": [
    "# Generating storm origin points\n",
    "def origin_points(dataframe):\n",
    "    '''This function creates Point objects representing the storm/hurricane origin, using the provided coordinates in the dataframe (parameter)'''\n",
    "    return (Point(dataframe[\"Longitude_first\"], dataframe[\"Latitude_first\"]))"
   ]
  },
  {
   "cell_type": "code",
   "execution_count": 23,
   "id": "3878b054-7d31-4bf3-8cdc-26eba4f6381c",
   "metadata": {},
   "outputs": [],
   "source": [
    "# Adding the origin points to storm_df\n",
    "storm_df[\"orig_points\"] = storm_df.apply(origin_points, axis=1)"
   ]
  },
  {
   "cell_type": "code",
   "execution_count": 24,
   "id": "b77aaf52-b10d-4052-a35f-e9ca29386a05",
   "metadata": {},
   "outputs": [],
   "source": [
    "# Generating destination points\n",
    "def destination_points(dataframe):\n",
    "    '''This function creates Point objects representing the storm/hurricane destination, using the provided coordinates in the dataframe (parameter)'''\n",
    "    return (Point(dataframe[\"Longitude_last\"], dataframe[\"Latitude_last\"]))"
   ]
  },
  {
   "cell_type": "code",
   "execution_count": 25,
   "id": "03614236-75e7-448b-9085-528f6731b997",
   "metadata": {},
   "outputs": [],
   "source": [
    "# Adding dest_points to storm_df\n",
    "storm_df[\"dest_points\"] = storm_df.apply(destination_points, axis=1)"
   ]
  },
  {
   "cell_type": "code",
   "execution_count": 26,
   "id": "5c590f6c-a800-40a4-9fe1-c75640e4d284",
   "metadata": {},
   "outputs": [
    {
     "data": {
      "text/html": [
       "<div>\n",
       "<style scoped>\n",
       "    .dataframe tbody tr th:only-of-type {\n",
       "        vertical-align: middle;\n",
       "    }\n",
       "\n",
       "    .dataframe tbody tr th {\n",
       "        vertical-align: top;\n",
       "    }\n",
       "\n",
       "    .dataframe thead th {\n",
       "        text-align: right;\n",
       "    }\n",
       "</style>\n",
       "<table border=\"1\" class=\"dataframe\">\n",
       "  <thead>\n",
       "    <tr style=\"text-align: right;\">\n",
       "      <th></th>\n",
       "      <th>Latitude_first</th>\n",
       "      <th>Longitude_first</th>\n",
       "      <th>Latitude_last</th>\n",
       "      <th>Longitude_last</th>\n",
       "      <th>orig_points</th>\n",
       "      <th>dest_points</th>\n",
       "    </tr>\n",
       "  </thead>\n",
       "  <tbody>\n",
       "    <tr>\n",
       "      <th>0</th>\n",
       "      <td>-6.7</td>\n",
       "      <td>66.4</td>\n",
       "      <td>-11.9</td>\n",
       "      <td>51.4</td>\n",
       "      <td>POINT (66.40000000000001 -6.7)</td>\n",
       "      <td>POINT (51.4 -11.9)</td>\n",
       "    </tr>\n",
       "    <tr>\n",
       "      <th>1</th>\n",
       "      <td>-8.0</td>\n",
       "      <td>77.3</td>\n",
       "      <td>-28.9</td>\n",
       "      <td>62.5</td>\n",
       "      <td>POINT (77.3 -8)</td>\n",
       "      <td>POINT (62.5 -28.9)</td>\n",
       "    </tr>\n",
       "  </tbody>\n",
       "</table>\n",
       "</div>"
      ],
      "text/plain": [
       "   Latitude_first  Longitude_first  Latitude_last  Longitude_last  \\\n",
       "0            -6.7             66.4          -11.9            51.4   \n",
       "1            -8.0             77.3          -28.9            62.5   \n",
       "\n",
       "                      orig_points         dest_points  \n",
       "0  POINT (66.40000000000001 -6.7)  POINT (51.4 -11.9)  \n",
       "1                 POINT (77.3 -8)  POINT (62.5 -28.9)  "
      ]
     },
     "execution_count": 26,
     "metadata": {},
     "output_type": "execute_result"
    }
   ],
   "source": [
    "# Display storm_df\n",
    "storm_df.head(2)"
   ]
  },
  {
   "cell_type": "markdown",
   "id": "17be809a-9ed8-48c0-a83d-ae754083a437",
   "metadata": {},
   "source": [
    "## Creating LineStrings that represent the movements."
   ]
  },
  {
   "cell_type": "code",
   "execution_count": 27,
   "id": "5b4ae398-19db-4313-9af0-87bd54de4338",
   "metadata": {},
   "outputs": [],
   "source": [
    "# Generate linestrings from origin-destination points\n",
    "def create_lines(dataframe):\n",
    "    '''This function uses the origin and destination points created above to create\n",
    "    a Shapely LineString -object between the origin and destination points'''\n",
    "    return LineString([dataframe[\"orig_points\"], dataframe[\"dest_points\"]])"
   ]
  },
  {
   "cell_type": "code",
   "execution_count": 28,
   "id": "e31a3034-8ac2-491a-8c94-24279f616b80",
   "metadata": {},
   "outputs": [],
   "source": [
    "# Add the storm Linestrings to storm_df\n",
    "storm_df[\"storm_lines\"] = storm_df.apply(create_lines, axis = 1)"
   ]
  },
  {
   "cell_type": "code",
   "execution_count": 29,
   "id": "95bbcbff-7b31-4477-b7a8-77805d9928ea",
   "metadata": {},
   "outputs": [
    {
     "data": {
      "text/html": [
       "<div>\n",
       "<style scoped>\n",
       "    .dataframe tbody tr th:only-of-type {\n",
       "        vertical-align: middle;\n",
       "    }\n",
       "\n",
       "    .dataframe tbody tr th {\n",
       "        vertical-align: top;\n",
       "    }\n",
       "\n",
       "    .dataframe thead th {\n",
       "        text-align: right;\n",
       "    }\n",
       "</style>\n",
       "<table border=\"1\" class=\"dataframe\">\n",
       "  <thead>\n",
       "    <tr style=\"text-align: right;\">\n",
       "      <th></th>\n",
       "      <th>Latitude_first</th>\n",
       "      <th>Longitude_first</th>\n",
       "      <th>Latitude_last</th>\n",
       "      <th>Longitude_last</th>\n",
       "      <th>orig_points</th>\n",
       "      <th>dest_points</th>\n",
       "      <th>storm_lines</th>\n",
       "    </tr>\n",
       "  </thead>\n",
       "  <tbody>\n",
       "    <tr>\n",
       "      <th>0</th>\n",
       "      <td>-6.7</td>\n",
       "      <td>66.4</td>\n",
       "      <td>-11.9</td>\n",
       "      <td>51.4</td>\n",
       "      <td>POINT (66.40000000000001 -6.7)</td>\n",
       "      <td>POINT (51.4 -11.9)</td>\n",
       "      <td>LINESTRING (66.40000000000001 -6.7, 51.4 -11.9)</td>\n",
       "    </tr>\n",
       "    <tr>\n",
       "      <th>1</th>\n",
       "      <td>-8.0</td>\n",
       "      <td>77.3</td>\n",
       "      <td>-28.9</td>\n",
       "      <td>62.5</td>\n",
       "      <td>POINT (77.3 -8)</td>\n",
       "      <td>POINT (62.5 -28.9)</td>\n",
       "      <td>LINESTRING (77.3 -8, 62.5 -28.9)</td>\n",
       "    </tr>\n",
       "  </tbody>\n",
       "</table>\n",
       "</div>"
      ],
      "text/plain": [
       "   Latitude_first  Longitude_first  Latitude_last  Longitude_last  \\\n",
       "0            -6.7             66.4          -11.9            51.4   \n",
       "1            -8.0             77.3          -28.9            62.5   \n",
       "\n",
       "                      orig_points         dest_points  \\\n",
       "0  POINT (66.40000000000001 -6.7)  POINT (51.4 -11.9)   \n",
       "1                 POINT (77.3 -8)  POINT (62.5 -28.9)   \n",
       "\n",
       "                                       storm_lines  \n",
       "0  LINESTRING (66.40000000000001 -6.7, 51.4 -11.9)  \n",
       "1                 LINESTRING (77.3 -8, 62.5 -28.9)  "
      ]
     },
     "execution_count": 29,
     "metadata": {},
     "output_type": "execute_result"
    }
   ],
   "source": [
    "# Current glimpse of storm_df\n",
    "storm_df.head(2)"
   ]
  },
  {
   "cell_type": "code",
   "execution_count": 30,
   "id": "3ca8d9ac-15a9-415b-b5ee-9116afddadbe",
   "metadata": {},
   "outputs": [],
   "source": [
    "# Obtain pyproj.Geod to facilitate Great Circle computations on the WGS84 ellipse\n",
    "geod = pyproj.Geod(ellps='WGS84')"
   ]
  },
  {
   "cell_type": "code",
   "execution_count": 31,
   "id": "388f9be2-578b-4caa-830b-dc52ccf64ec5",
   "metadata": {},
   "outputs": [],
   "source": [
    "# Create a function to calculate lengths\n",
    "def calculate_length(dataframe):\n",
    "    '''This function calculates the forward & back azimuths, and distance given the latitudes and longitudes of an origin and destination point.\n",
    "    The distance is returned. '''\n",
    "    angle1, angle2, distance = geod.inv(dataframe[\"orig_points\"].x, dataframe[\"orig_points\"].y, dataframe[\"dest_points\"].x, dataframe[\"dest_points\"].y)\n",
    "    return distance"
   ]
  },
  {
   "cell_type": "code",
   "execution_count": 32,
   "id": "9c638049-0cdc-4c51-9ecd-3a65294cefbb",
   "metadata": {},
   "outputs": [],
   "source": [
    "# Add the storm Linestrings to storm_df\n",
    "storm_df['o_d_length'] = storm_df.apply(calculate_length, axis = 1)"
   ]
  },
  {
   "cell_type": "code",
   "execution_count": 33,
   "id": "2fb4c361-c840-4b89-acba-ba39e7cec16e",
   "metadata": {},
   "outputs": [
    {
     "data": {
      "text/html": [
       "<div>\n",
       "<style scoped>\n",
       "    .dataframe tbody tr th:only-of-type {\n",
       "        vertical-align: middle;\n",
       "    }\n",
       "\n",
       "    .dataframe tbody tr th {\n",
       "        vertical-align: top;\n",
       "    }\n",
       "\n",
       "    .dataframe thead th {\n",
       "        text-align: right;\n",
       "    }\n",
       "</style>\n",
       "<table border=\"1\" class=\"dataframe\">\n",
       "  <thead>\n",
       "    <tr style=\"text-align: right;\">\n",
       "      <th></th>\n",
       "      <th>Latitude_first</th>\n",
       "      <th>Longitude_first</th>\n",
       "      <th>Latitude_last</th>\n",
       "      <th>Longitude_last</th>\n",
       "      <th>orig_points</th>\n",
       "      <th>dest_points</th>\n",
       "      <th>storm_lines</th>\n",
       "      <th>o_d_length</th>\n",
       "    </tr>\n",
       "  </thead>\n",
       "  <tbody>\n",
       "    <tr>\n",
       "      <th>0</th>\n",
       "      <td>-6.7</td>\n",
       "      <td>66.4</td>\n",
       "      <td>-11.9</td>\n",
       "      <td>51.4</td>\n",
       "      <td>POINT (66.40000000000001 -6.7)</td>\n",
       "      <td>POINT (51.4 -11.9)</td>\n",
       "      <td>LINESTRING (66.40000000000001 -6.7, 51.4 -11.9)</td>\n",
       "      <td>1.744775e+06</td>\n",
       "    </tr>\n",
       "    <tr>\n",
       "      <th>1</th>\n",
       "      <td>-8.0</td>\n",
       "      <td>77.3</td>\n",
       "      <td>-28.9</td>\n",
       "      <td>62.5</td>\n",
       "      <td>POINT (77.3 -8)</td>\n",
       "      <td>POINT (62.5 -28.9)</td>\n",
       "      <td>LINESTRING (77.3 -8, 62.5 -28.9)</td>\n",
       "      <td>2.785487e+06</td>\n",
       "    </tr>\n",
       "  </tbody>\n",
       "</table>\n",
       "</div>"
      ],
      "text/plain": [
       "   Latitude_first  Longitude_first  Latitude_last  Longitude_last  \\\n",
       "0            -6.7             66.4          -11.9            51.4   \n",
       "1            -8.0             77.3          -28.9            62.5   \n",
       "\n",
       "                      orig_points         dest_points  \\\n",
       "0  POINT (66.40000000000001 -6.7)  POINT (51.4 -11.9)   \n",
       "1                 POINT (77.3 -8)  POINT (62.5 -28.9)   \n",
       "\n",
       "                                       storm_lines    o_d_length  \n",
       "0  LINESTRING (66.40000000000001 -6.7, 51.4 -11.9)  1.744775e+06  \n",
       "1                 LINESTRING (77.3 -8, 62.5 -28.9)  2.785487e+06  "
      ]
     },
     "execution_count": 33,
     "metadata": {},
     "output_type": "execute_result"
    }
   ],
   "source": [
    "# Current glimpse of storm_df\n",
    "storm_df.head(2)"
   ]
  },
  {
   "cell_type": "markdown",
   "id": "930a3895-bf33-4d1c-8dad-214047de0b49",
   "metadata": {},
   "source": [
    "### Find the mean distance in KM of all the origin-destination LineStrings.\n",
    "NB: Lat/Lon geographic coordinates represent degrees."
   ]
  },
  {
   "cell_type": "code",
   "execution_count": 34,
   "id": "2315944a-19e5-4244-83e4-0fb49ea6d46d",
   "metadata": {},
   "outputs": [
    {
     "data": {
      "text/plain": [
       "Latitude_first     7.927015e+00\n",
       "Longitude_first    3.138502e+01\n",
       "Latitude_last      1.475363e+01\n",
       "Longitude_last     2.071741e+01\n",
       "o_d_length         2.406355e+06\n",
       "dtype: float64"
      ]
     },
     "execution_count": 34,
     "metadata": {},
     "output_type": "execute_result"
    }
   ],
   "source": [
    "# Calculate the mean values in storm_df\n",
    "mean_values = storm_df.mean(axis = 0, skipna = True, level = None, numeric_only = True)\n",
    "mean_values"
   ]
  },
  {
   "cell_type": "code",
   "execution_count": 36,
   "id": "a8894340-2080-4fde-918d-f42fea4e5fab",
   "metadata": {},
   "outputs": [
    {
     "name": "stdout",
     "output_type": "stream",
     "text": [
      "The mean distance or length is: 2406.35 kilometres\n"
     ]
    }
   ],
   "source": [
    "# calculate the mean distance in km (The mean was in metres)\n",
    "mean_length = mean_values[4] / 1000\n",
    "print(\"The mean distance or length is: {0:.2f} kilometres\".format(mean_length))"
   ]
  },
  {
   "cell_type": "code",
   "execution_count": null,
   "id": "d4da62ae-77eb-4301-9d8d-ecbc8616f45f",
   "metadata": {},
   "outputs": [],
   "source": []
  },
  {
   "cell_type": "code",
   "execution_count": null,
   "id": "4c08ce4b-3ec1-4eb4-ac3d-bba85b479c24",
   "metadata": {},
   "outputs": [],
   "source": []
  }
 ],
 "metadata": {
  "kernelspec": {
   "display_name": "Python 3 (ipykernel)",
   "language": "python",
   "name": "python3"
  },
  "language_info": {
   "codemirror_mode": {
    "name": "ipython",
    "version": 3
   },
   "file_extension": ".py",
   "mimetype": "text/x-python",
   "name": "python",
   "nbconvert_exporter": "python",
   "pygments_lexer": "ipython3",
   "version": "3.8.13"
  }
 },
 "nbformat": 4,
 "nbformat_minor": 5
}
